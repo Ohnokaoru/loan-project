{
 "cells": [
  {
   "cell_type": "markdown",
   "metadata": {},
   "source": [
    "### 本金攤還計算方式"
   ]
  },
  {
   "cell_type": "code",
   "execution_count": 4,
   "metadata": {},
   "outputs": [
    {
     "data": {
      "text/plain": [
       "(100000, 5, 2)"
      ]
     },
     "execution_count": 4,
     "metadata": {},
     "output_type": "execute_result"
    }
   ],
   "source": [
    "amount=100000\n",
    "years=5\n",
    "rate=2\n",
    "\n",
    "amount,years,rate"
   ]
  },
  {
   "cell_type": "code",
   "execution_count": 5,
   "metadata": {},
   "outputs": [
    {
     "data": {
      "text/plain": [
       "1666"
      ]
     },
     "execution_count": 5,
     "metadata": {},
     "output_type": "execute_result"
    }
   ],
   "source": [
    "# 固定本金\n",
    "period=years*12\n",
    "month_pay=int(amount/period)\n",
    "month_pay"
   ]
  },
  {
   "cell_type": "code",
   "execution_count": 6,
   "metadata": {},
   "outputs": [
    {
     "data": {
      "text/plain": [
       "0.0016666666666666668"
      ]
     },
     "execution_count": 6,
     "metadata": {},
     "output_type": "execute_result"
    }
   ],
   "source": [
    "# 月利率\n",
    "month_rate=rate/100/12\n",
    "month_rate"
   ]
  },
  {
   "cell_type": "code",
   "execution_count": 7,
   "metadata": {},
   "outputs": [
    {
     "data": {
      "text/plain": [
       "167"
      ]
     },
     "execution_count": 7,
     "metadata": {},
     "output_type": "execute_result"
    }
   ],
   "source": [
    "# 利息\n",
    "interest=round(amount*month_rate)\n",
    "interest"
   ]
  },
  {
   "cell_type": "markdown",
   "metadata": {},
   "source": [
    "### 每月還款金額利息"
   ]
  },
  {
   "cell_type": "code",
   "execution_count": 10,
   "metadata": {},
   "outputs": [
    {
     "name": "stdout",
     "output_type": "stream",
     "text": [
      "第0期 本金:1666 利息:167\n",
      "第1期 本金:1666 利息:167\n",
      "第2期 本金:1666 利息:167\n",
      "第3期 本金:1666 利息:167\n",
      "第4期 本金:1666 利息:167\n",
      "第5期 本金:1666 利息:167\n",
      "第6期 本金:1666 利息:167\n",
      "第7期 本金:1666 利息:167\n",
      "第8期 本金:1666 利息:167\n",
      "第9期 本金:1666 利息:167\n",
      "第10期 本金:1666 利息:167\n",
      "第11期 本金:1666 利息:167\n",
      "第12期 本金:1666 利息:167\n",
      "第13期 本金:1666 利息:167\n",
      "第14期 本金:1666 利息:167\n",
      "第15期 本金:1666 利息:167\n",
      "第16期 本金:1666 利息:167\n",
      "第17期 本金:1666 利息:167\n",
      "第18期 本金:1666 利息:167\n",
      "第19期 本金:1666 利息:167\n",
      "第20期 本金:1666 利息:167\n",
      "第21期 本金:1666 利息:167\n",
      "第22期 本金:1666 利息:167\n",
      "第23期 本金:1666 利息:167\n",
      "第24期 本金:1666 利息:167\n",
      "第25期 本金:1666 利息:167\n",
      "第26期 本金:1666 利息:167\n",
      "第27期 本金:1666 利息:167\n",
      "第28期 本金:1666 利息:167\n",
      "第29期 本金:1666 利息:167\n",
      "第30期 本金:1666 利息:167\n",
      "第31期 本金:1666 利息:167\n",
      "第32期 本金:1666 利息:167\n",
      "第33期 本金:1666 利息:167\n",
      "第34期 本金:1666 利息:167\n",
      "第35期 本金:1666 利息:167\n",
      "第36期 本金:1666 利息:167\n",
      "第37期 本金:1666 利息:167\n",
      "第38期 本金:1666 利息:167\n",
      "第39期 本金:1666 利息:167\n",
      "第40期 本金:1666 利息:167\n",
      "第41期 本金:1666 利息:167\n",
      "第42期 本金:1666 利息:167\n",
      "第43期 本金:1666 利息:167\n",
      "第44期 本金:1666 利息:167\n",
      "第45期 本金:1666 利息:167\n",
      "第46期 本金:1666 利息:167\n",
      "第47期 本金:1666 利息:167\n",
      "第48期 本金:1666 利息:167\n",
      "第49期 本金:1666 利息:167\n",
      "第50期 本金:1666 利息:167\n",
      "第51期 本金:1666 利息:167\n",
      "第52期 本金:1666 利息:167\n",
      "第53期 本金:1666 利息:167\n",
      "第54期 本金:1666 利息:167\n",
      "第55期 本金:1666 利息:167\n",
      "第56期 本金:1666 利息:167\n",
      "第57期 本金:1666 利息:167\n",
      "第58期 本金:1666 利息:167\n",
      "第59期 本金:1666 利息:167\n"
     ]
    }
   ],
   "source": [
    "amount=1000000\n",
    "for i in range(period):\n",
    "\n",
    "    print(f\"第{i}期 本金:{month_pay} 利息:{interest} 本利和:{month_pay+interest} 餘額:{amount-month_pay}\")"
   ]
  },
  {
   "cell_type": "code",
   "execution_count": null,
   "metadata": {},
   "outputs": [],
   "source": []
  }
 ],
 "metadata": {
  "kernelspec": {
   "display_name": "Python 3",
   "language": "python",
   "name": "python3"
  },
  "language_info": {
   "codemirror_mode": {
    "name": "ipython",
    "version": 3
   },
   "file_extension": ".py",
   "mimetype": "text/x-python",
   "name": "python",
   "nbconvert_exporter": "python",
   "pygments_lexer": "ipython3",
   "version": "3.12.1"
  }
 },
 "nbformat": 4,
 "nbformat_minor": 2
}
